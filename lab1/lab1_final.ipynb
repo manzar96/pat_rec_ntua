{
 "cells": [
  {
   "cell_type": "markdown",
   "metadata": {},
   "source": [
    "Αναγνώριση Προτύπων - 9ο Εξάμηνο Καφίρης Αλέξανδρος, 03114044 Ζαράνης Εμμανουήλ, 03114798\n",
    "\n",
    "1η Σειρά Προγραμματιστικών Ασκήσεων\n",
    "\n",
    "Σκοπός αυτής της εργασίας είναι η κατασκευή ενός μοντέλου που θα μπορεί να ταξινομεί δεκαδικά ψηφία (από το 0 μέχρι το 9) στις αντίστοιχες κατηγορίες τους, με άλλα λόγια θέλουμε να φτιάξουμε έναν μοντέλο που θα αναγνωρίζει το ψηφίο που του δόθηκε.\n",
    "Το dataset που μας δόθηκε χωρίζεται σε 2 μέρη, ένα training set και ένα test set. Κρίνοντας από τα μεγέθη των αρχείων μπορούμε να υποθέσουμε ότι το training set αποτελεί το 77% των συνολικών δεδομένων μας, ενώ το test set το 23%. Η σημαντική αυτή διαφορά στα μεγέθη των test και train δεδομένων πηγάζει από την ανάγκη μας να φτιάξουμε ένα γενικό μοντέλο που θα δίνει καλές ταξινομήσεις για νέα ψηφία. Στην περίπτωση που τα training δεδομένα ήταν περισσότερα θα αντιμετωπίζαμε πρόβλημα overfitting, ενώ σε αντόθετη περίπτωση underfitting. Και οι δύο παραπάνω καταστάσεις είναι ανεπιθύμητες αφού σε αυτές το μοντέλο μας είτε δεν μπορεί να εκπαιδευτεί επαρκώς, είτε εκπαιδεύεται πολύ καλα στα training δεδομένα και δεν μπορεί να γενικεύσει τις εκτιμήσεις του σε νέα.\n",
    "Στη συνέχεια παρουσιάζουμε τα βήματα που ακολουθούμε για την επίλυση του προβλήματος ακολουθώντας τα βήματα που δίνονται στην εκφώνηση της προπαρασκευαστικής άσκησης ώστε να είναι να σαφές το τί κάνουμε κάθε φορά και να παρατίθενται τα ανάλογα σχόλια επί των αποτελεσματων."
   ]
  },
  {
   "cell_type": "markdown",
   "metadata": {},
   "source": [
    "Βήμα 1: Φόρτωση και διαχωρισμός των δεδομένων."
   ]
  },
  {
   "cell_type": "code",
   "execution_count": 2,
   "metadata": {},
   "outputs": [],
   "source": [
    "import numpy as np #import numpy library in order to be compatible with scikit-learn\n",
    "\n",
    "# Ignore warnings\n",
    "import warnings\n",
    "warnings.filterwarnings(\"ignore\")\n",
    "\n",
    "# Read the train.txt file\n",
    "with open(\"dataset/train.txt\") as train_set:\n",
    "    X_train = []\n",
    "    y_train = []\n",
    "    for line in train_set.readlines():\n",
    "        split_line = line.split() # split numbers\n",
    "        \n",
    "        buffer = []\n",
    "        for number in split_line:\n",
    "            buffer.append(float(number)) # typecast every sting to float\n",
    "        \n",
    "        digit = int(buffer[0]) # keep first digit as int which is the label\n",
    "        rest = buffer[1:] # keep rest as description\n",
    "        \n",
    "        X_train.append([rest]) # append to list of lists of descriptions\n",
    "        y_train.append(digit) # append to list of labels\n",
    "\n",
    "# Same happens for test.txt file\n",
    "with open(\"dataset/test.txt\") as test_set:\n",
    "    X_test = []\n",
    "    y_test = []\n",
    "    for line in test_set.readlines():\n",
    "        split_line = line.split()\n",
    "        \n",
    "        buffer = []\n",
    "        for number in split_line:\n",
    "            buffer.append(float(number))\n",
    "        \n",
    "        digit = int(buffer[0])\n",
    "        rest = buffer[1:]\n",
    "        \n",
    "        X_test.append([rest])\n",
    "        y_test.append(digit)\n",
    "        \n",
    "# Transform created list to numpy arrays.\n",
    "X_test = np.asarray(X_test).squeeze()\n",
    "y_test = np.asarray(y_test)\n",
    "X_train = np.asarray(X_train).squeeze()\n",
    "y_train = np.asarray(y_train)"
   ]
  },
  {
   "cell_type": "markdown",
   "metadata": {},
   "source": [
    "Θα εξετάσουμε αν οι μετατροπές έχουν γίνει σωστά και αν τα μεγέθη των πινάκων είναι σωστα:"
   ]
  },
  {
   "cell_type": "code",
   "execution_count": 2,
   "metadata": {},
   "outputs": [
    {
     "name": "stdout",
     "output_type": "stream",
     "text": [
      "(7291, 256) (7291,)\n",
      "(2007, 256) (2007,)\n"
     ]
    }
   ],
   "source": [
    "print(X_train.shape, y_train.shape)\n",
    "print(X_test.shape, y_test.shape)"
   ]
  },
  {
   "cell_type": "code",
   "execution_count": 3,
   "metadata": {},
   "outputs": [
    {
     "data": {
      "text/plain": [
       "<Figure size 640x480 with 1 Axes>"
      ]
     },
     "metadata": {},
     "output_type": "display_data"
    },
    {
     "name": "stdout",
     "output_type": "stream",
     "text": [
      "Actual number:  9\n"
     ]
    }
   ],
   "source": [
    "digit_131_l = y_train[131] # read 131th label\n",
    "digit_131_descr = X_train[131,:] # read 131th array\n",
    "digit_131 = digit_131_descr.reshape([16,16])\n",
    "import matplotlib.pyplot as plt # import matplotlib.pyplot in order to show image\n",
    "plt.imshow(digit_131,cmap='gray')\n",
    "plt.show()\n",
    "\n",
    "print('Actual number: ',digit_131_l)"
   ]
  },
  {
   "cell_type": "markdown",
   "metadata": {},
   "source": [
    "Πράγματι βλέπουμε τον αριθμό 9, όπως υποδεικνύεται και από το label."
   ]
  },
  {
   "cell_type": "markdown",
   "metadata": {},
   "source": [
    "Βημα 3: Σχεδιασμός 1 τυχαίου δείγματος για κάθε label\n",
    "\n",
    "Για να απεικονίσουμε 1 τυχαίο δείγμα από κάθε label θα ομαδοποιήσουμε τα δείγματα σε labels. Αυτό μπορεί να μην είναι απαραίτητο εδώ, ωστόσο η ομαδοποίηση θα μας εξυπηρετήσει και στα επόμενα ερωτήματα.\n",
    "    "
   ]
  },
  {
   "cell_type": "code",
   "execution_count": 4,
   "metadata": {},
   "outputs": [
    {
     "data": {
      "image/png": "[encoded data removed]",
      "text/plain": [
       "<Figure size 432x288 with 10 Axes>"
      ]
     },
     "metadata": {
      "needs_background": "light"
     },
     "output_type": "display_data"
    }
   ],
   "source": [
    "# Create plots of each number\n",
    "from random import randint # import randint to choose random elements from arrays\n",
    "\n",
    "fig = plt.figure() # create figure\n",
    "for digit in np.unique(y_train):\n",
    "    \n",
    "    indexes = np.where(y_train == digit)[0] # locate the indexes of that digit\n",
    "    random_pick = np.random.choice(indexes) # pick a random index\n",
    "    chosen_digit = X_train[random_pick,:] # pick the sample with the random index\n",
    "    \n",
    "    # plot random digits in a nice way\n",
    "    digit = np.asscalar(digit)\n",
    "    if digit != 0:\n",
    "        fig.add_subplot(4,3,digit)\n",
    "        plt.imshow(chosen_digit.reshape([16,16]),cmap='gray')\n",
    "    else:\n",
    "        fig.add_subplot(4,3,11)\n",
    "        plt.imshow(chosen_digit.reshape([16,16]),cmap='gray')"
   ]
  },
  {
   "cell_type": "markdown",
   "metadata": {},
   "source": [
    "Βήμα 4: Υπολογίζουμε τη μέση τιμή των χαρακτηριστικών του pixel(10,10) για το ψηφίο 0 με βάση το train set\n",
    "\n",
    "Θα κατασκευάσουμε μια συνάρτηση που εκτελεί αυτή την πράξη διότι θα μας χρησιμέψει και στη συνέχεια."
   ]
  },
  {
   "cell_type": "code",
   "execution_count": 5,
   "metadata": {},
   "outputs": [
    {
     "data": {
      "text/plain": [
       "-0.5041884422110553"
      ]
     },
     "execution_count": 5,
     "metadata": {},
     "output_type": "execute_result"
    }
   ],
   "source": [
    "# This function calculates the mean of a pixel along a number of digits.\n",
    "def mean_of_pixel(x,\n",
    "                  y,\n",
    "                  data,\n",
    "                  labels,\n",
    "                  value):\n",
    "    pixel_no = 16*y + x # find the feature number\n",
    "    values_index = np.where(labels == value) # locate the indexes for the desired value\n",
    "    return np.mean(data[values_index,pixel_no]) # return the mean for all the instances of the sample\n",
    "    \n",
    "mean_of_pixel(10,10,X_train,y_train,0)"
   ]
  },
  {
   "cell_type": "markdown",
   "metadata": {},
   "source": [
    "Βήμα 5: Υπολογίζουμε τη διασπορά των χαρακτηριστικών του pixel(10,10) για το ψηφίο 0 με βάση το train set.\n",
    "\n",
    "Όπως και πριν θα κατασκευάσουμε μια παρόμοια συνάρτηση."
   ]
  },
  {
   "cell_type": "code",
   "execution_count": 6,
   "metadata": {},
   "outputs": [
    {
     "data": {
      "text/plain": [
       "0.5245221428814929"
      ]
     },
     "execution_count": 6,
     "metadata": {},
     "output_type": "execute_result"
    }
   ],
   "source": [
    "# This function calculates the variance of a pixel along a number of digits.\n",
    "def var_of_pixel(x,\n",
    "                 y,\n",
    "                 data,\n",
    "                 labels,\n",
    "                 value):\n",
    "    pixel_no = 16*y + x # find the feature number\n",
    "    values_index = np.where(labels == value) # locate the indexes for the desired value\n",
    "    return np.var(data[values_index,pixel_no]) # return the variance for all the instances of the sample\n",
    "    \n",
    "var_of_pixel(10,10,X_train,y_train,0)"
   ]
  },
  {
   "cell_type": "markdown",
   "metadata": {},
   "source": [
    "Βήμα 6,7,8: Εκτελούμε τις παραπάνω πράξεις για κάθε pixel του ψηφίου 0 και τυπώνουμε τις μέσες τιμές και τις διασπορές σαν εικόνες.\n",
    "\n",
    "Κι εδώ μπορούμε να κατασκευάσουμε μια συνάρτηση που θα κάνει τον συνολικό υπολογισμό για κάποιο ψηφίο."
   ]
  },
  {
   "cell_type": "code",
   "execution_count": 7,
   "metadata": {},
   "outputs": [
    {
     "data": {
      "image/png": "[encoded data removed]",
      "text/plain": [
       "<Figure size 432x288 with 2 Axes>"
      ]
     },
     "metadata": {
      "needs_background": "light"
     },
     "output_type": "display_data"
    }
   ],
   "source": [
    "# This function calculates mean and variance of each pixel for a digit and returns 2 np.ndarrays respectively.\n",
    "def stats_for_label(label,\n",
    "                    X_train,\n",
    "                    y_train):\n",
    "    \n",
    "    indexes = np.where(y_train == label) # pick the indexes of the label\n",
    "    mean_of_label = np.mean(X_train[indexes,:].squeeze(),axis=0) # calculate the mean of samples with that label\n",
    "    var_of_label = np.var(X_train[indexes,:].squeeze(),axis=0) # calculate the variance of samples with that label\n",
    "    return mean_of_label, var_of_label\n",
    "\n",
    "if __name__ == '__main__':\n",
    "    mean_0,var_0 = stats_for_label(0,X_train,y_train)\n",
    "    # Make figures for mean and variance of 0\n",
    "    fig = plt.figure()\n",
    "    fig.add_subplot(121)\n",
    "    plt.imshow(mean_0.reshape([16,16]),cmap = 'gray')\n",
    "    fig.add_subplot(122)\n",
    "    plt.imshow(var_0.reshape([16,16]),cmap = 'gray')"
   ]
  },
  {
   "cell_type": "markdown",
   "metadata": {},
   "source": [
    "Παρατηρούμε ότι και οι δύο απεικονίσεις του ψηφίου 0, είτε της μέσης τιμής, είτε της διασποράς, αναπαριστούν πράγματι το ψηφίο. Αυτό που μπορούμε να προσθέσουμε στο σχολιασμό μας είναι ότι η απεικόνιση της μέσης τιμής προκαλεί ένα θόλωμα στο ψηφίο, ενώ η απεικόνιση της διασποράς μια ενίσχυση των περιγραμμάτων. Αυτό μπορεί να εξηγηθεί από το γεγονός ότι η θέση του κορμού ψηφίου είναι περίπου σταθερή (όσον αφορά τη μέση τιμή), ενώ τα όριά του είναι αυτά που διαφοροποιούνται αναλόγως τον γραφέα του."
   ]
  },
  {
   "cell_type": "markdown",
   "metadata": {},
   "source": [
    "Βήμα 9: Υπολογίζουμε μέση τιμή και διασπορά για όλα τα ψηφία και σχεδιάζουμε τις μέσες τιμές τους."
   ]
  },
  {
   "cell_type": "code",
   "execution_count": 8,
   "metadata": {},
   "outputs": [
    {
     "data": {
      "image/png": "[encoded data removed]",
      "text/plain": [
       "<Figure size 432x288 with 2 Axes>"
      ]
     },
     "metadata": {
      "needs_background": "light"
     },
     "output_type": "display_data"
    },
    {
     "data": {
      "image/png": "[encoded data removed]",
      "text/plain": [
       "<Figure size 432x288 with 2 Axes>"
      ]
     },
     "metadata": {
      "needs_background": "light"
     },
     "output_type": "display_data"
    },
    {
     "data": {
      "image/png": "[encoded data removed]",
      "text/plain": [
       "<Figure size 432x288 with 2 Axes>"
      ]
     },
     "metadata": {
      "needs_background": "light"
     },
     "output_type": "display_data"
    },
    {
     "data": {
      "image/png": "[encoded data removed]",
      "text/plain": [
       "<Figure size 432x288 with 2 Axes>"
      ]
     },
     "metadata": {
      "needs_background": "light"
     },
     "output_type": "display_data"
    },
    {
     "data": {
      "image/png": "[encoded data removed]",
      "text/plain": [
       "<Figure size 432x288 with 2 Axes>"
      ]
     },
     "metadata": {
      "needs_background": "light"
     },
     "output_type": "display_data"
    },
    {
     "data": {
      "image/png": "[encoded data removed]",
      "text/plain": [
       "<Figure size 432x288 with 2 Axes>"
      ]
     },
     "metadata": {
      "needs_background": "light"
     },
     "output_type": "display_data"
    },
    {
     "data": {
      "image/png": "[encoded data removed]",
      "text/plain": [
       "<Figure size 432x288 with 2 Axes>"
      ]
     },
     "metadata": {
      "needs_background": "light"
     },
     "output_type": "display_data"
    },
    {
     "data": {
      "image/png": "[encoded data removed]",
      "text/plain": [
       "<Figure size 432x288 with 2 Axes>"
      ]
     },
     "metadata": {
      "needs_background": "light"
     },
     "output_type": "display_data"
    },
    {
     "data": {
      "image/png": "[encoded data removed]",
      "text/plain": [
       "<Figure size 432x288 with 2 Axes>"
      ]
     },
     "metadata": {
      "needs_background": "light"
     },
     "output_type": "display_data"
    },
    {
     "data": {
      "image/png": "[encoded data removed]",
      "text/plain": [
       "<Figure size 432x288 with 2 Axes>"
      ]
     },
     "metadata": {
      "needs_background": "light"
     },
     "output_type": "display_data"
    }
   ],
   "source": [
    "for label in np.unique(y_train):\n",
    "    \n",
    "    d_mean, d_var = stats_for_label(label,X_train,y_train)\n",
    "    \n",
    "    fig = plt.figure()\n",
    "    # Plot each digit's mean and variance\n",
    "    fig.add_subplot(10,2,2*digit+1)\n",
    "    plt.imshow(d_mean.reshape([16,16]),cmap='gray')\n",
    "    \n",
    "    fig.add_subplot(10,2,2*digit+2)\n",
    "    plt.imshow(d_var.reshape([16,16]),cmap='gray')"
   ]
  },
  {
   "cell_type": "markdown",
   "metadata": {},
   "source": [
    "Εδώ μπορούμε να εξάγουμε το ίδιο συμπέρασμα για κάθε ψηφίο, όπως αυτό από το Βήμα 8."
   ]
  },
  {
   "cell_type": "markdown",
   "metadata": {},
   "source": [
    "Βήμα 10: Ταξινόμηση του ψηφίου 101 με βάση την Ευκλείδια απόσταση."
   ]
  },
  {
   "cell_type": "code",
   "execution_count": 9,
   "metadata": {},
   "outputs": [],
   "source": [
    "# Here we need to create an array with the mean of each digit.\n",
    "means = np.asarray([stats_for_label(label,X_train,y_train)[0] for label in np.unique(y_train)])\n",
    "\n",
    "# Create a function that calculates the Eucleidian distance of a digit from each mean of digit\n",
    "def eucleidian_distance(digit, mean_of_digits):\n",
    "    eucl_dist = np.empty((10,1)) # array of differences\n",
    "    for i in range(10):\n",
    "        # Calculate the eucleidian difference between each train digit with the mean of each digit\n",
    "        diffs_dim = digit - mean_of_digits[i]\n",
    "        diffs_dim = np.power(diffs_dim,2)\n",
    "        eucl_dist[i] = np.sqrt(np.sum(diffs_dim))\n",
    "    else:\n",
    "        return eucl_dist\n",
    "\n",
    "# This function finds the best eucleidian distance of a point and the mean array\n",
    "def classify_digit_eucl(digit, mean_of_digits):\n",
    "    distances = eucleidian_distance(digit,mean_of_digits)\n",
    "    return np.argmin(distances) # return the index of the minimum distance"
   ]
  },
  {
   "cell_type": "markdown",
   "metadata": {},
   "source": [
    "Τώρα θα χρησιμοποιήσουμε τον πίνακα των αποστάσεων για να ταξινομήσουμε το δείγμα 101"
   ]
  },
  {
   "cell_type": "code",
   "execution_count": 10,
   "metadata": {},
   "outputs": [
    {
     "data": {
      "image/png": "[encoded data removed]",
      "text/plain": [
       "<Figure size 432x288 with 1 Axes>"
      ]
     },
     "metadata": {
      "needs_background": "light"
     },
     "output_type": "display_data"
    },
    {
     "name": "stdout",
     "output_type": "stream",
     "text": [
      "Actual digit (see above) and the prediction is: 0\n"
     ]
    }
   ],
   "source": [
    "digit_101 = X_test[101,:] # take digit with index 101\n",
    "# Show the image of the digit and the result\n",
    "plt.imshow(digit_101.reshape([16,16]),cmap='gray')\n",
    "plt.show()\n",
    "print('Actual digit (see above) and the prediction is:',classify_digit_eucl(digit_101,means)) # find the best fitting number"
   ]
  },
  {
   "cell_type": "markdown",
   "metadata": {},
   "source": [
    "Σε αυτή την περίπτωση η ταξινόμηση δεν έχει γίνει με επιτυχία. Αυτό που ίσως φταίει είναι το ότι το 6 είναι πλάγια και ακολουθεί τη γραμμή του 0, οπότε ο ταξινομητής μας δεν έχει καλή απόδοση."
   ]
  },
  {
   "cell_type": "markdown",
   "metadata": {},
   "source": [
    "Βήμα 11: Ταξινόμηση όλων των ψηφίων του test set και εκτίμηση ποσοστού επιτυχίας."
   ]
  },
  {
   "cell_type": "code",
   "execution_count": 11,
   "metadata": {},
   "outputs": [
    {
     "name": "stdout",
     "output_type": "stream",
     "text": [
      "Accuracy of our classifier:  0.8141504733432985\n"
     ]
    }
   ],
   "source": [
    "from sklearn.metrics import zero_one_loss\n",
    "\n",
    "# Classify each sample in test set.\n",
    "test_predictions = [classify_digit_eucl(test_digit,means) for test_digit in X_test.tolist()]\n",
    "\n",
    "# Check for accuracy.\n",
    "test_accuracy = zero_one_loss(y_test,test_predictions)\n",
    "print('Accuracy of our classifier: ',1 - test_accuracy)"
   ]
  },
  {
   "cell_type": "markdown",
   "metadata": {},
   "source": [
    "Βήμα 12: Κατασκευή ταξινομητή με βάση την ευκλείδια απόσταση."
   ]
  },
  {
   "cell_type": "code",
   "execution_count": 12,
   "metadata": {},
   "outputs": [],
   "source": [
    "from sklearn.base import BaseEstimator, ClassifierMixin\n",
    "from sklearn.metrics import zero_one_loss\n",
    "from sklearn.model_selection import KFold\n",
    "from sklearn.model_selection import cross_val_score\n",
    "\n",
    "# Create the eucleidian classifier class\n",
    "class Eucleidian_classifier(BaseEstimator,ClassifierMixin):\n",
    "    \n",
    "    def __init__(self):\n",
    "        self.X_mean = None\n",
    "        \n",
    "    def fit(self,X_train,y_train):\n",
    "        # Create array with means of index\n",
    "        dims = (aux_x,aux_y) = (y_train.shape[0],X_train.shape[1])\n",
    "        \n",
    "        self.X_mean = np.empty(dims)\n",
    "        min_index, max_index = np.min(y_train),np.max(y_train) # find min and max digits number\n",
    "        values = np.unique(y_train)\n",
    "        \n",
    "        for i in range(min_index,max_index + 1):\n",
    "            self.X_mean[i,:] = np.mean(X_train[np.argwhere((y_train - values[i] == 0)).squeeze()],\n",
    "                                      axis = 0) # calculate the mean for each digit\n",
    "        \n",
    "    def predict(self,X_test):\n",
    "        \n",
    "        # We classify each sample based on the eucleidian classifier we created before\n",
    "        return np.asarray([classify_digit_eucl(sample,self.X_mean) for sample in X_test])\n",
    "    \n",
    "    def score(self,X_test,y_test):\n",
    "        \n",
    "        results = self.predict(X_test)# make a list for each prediction made\n",
    "        flags = y_test - results # subtruct from label array to find the correct predictions (those with zero)\n",
    "        correct = np.count_nonzero(flags == 0) # count the correct predictions\n",
    "        return correct / y_test.shape[0]"
   ]
  },
  {
   "cell_type": "markdown",
   "metadata": {},
   "source": [
    "Βήμα 13: Υλοποίηση 5-fold cross validation."
   ]
  },
  {
   "cell_type": "code",
   "execution_count": 13,
   "metadata": {},
   "outputs": [
    {
     "name": "stdout",
     "output_type": "stream",
     "text": [
      "5-fold cross validation scores:  [0.85772914 0.84041096 0.84567901 0.85518188 0.8431912 ]\n"
     ]
    }
   ],
   "source": [
    "from sklearn.model_selection import cross_val_score\n",
    "\n",
    "# Use scikit fnction cross_val_score to calculate cross validation scores.\n",
    "nfold_scores = cross_val_score(Eucleidian_classifier(),\n",
    "                            X_train,\n",
    "                            y_train,\n",
    "                            scoring='accuracy',\n",
    "                            cv = 5)\n",
    "print('5-fold cross validation scores: ',nfold_scores)"
   ]
  },
  {
   "cell_type": "markdown",
   "metadata": {},
   "source": [
    "Βήμα 13β: Σε αυτο το βήμα σχεδιάζουμε την περιοχή απόφασης του ταξινομητή, εφαρμόζοντας πρώτα pca έτσι ώστε να σχηματίσουμε 2 principal complonents. Παρακάτω φαίνεται η κατανομή των δειγμάτων (train set) μετά την εφαρμογή του pca."
   ]
  },
  {
   "cell_type": "code",
   "execution_count": 1,
   "metadata": {},
   "outputs": [
    {
     "ename": "NameError",
     "evalue": "name 'X_train' is not defined",
     "output_type": "error",
     "traceback": [
      "\u001b[0;31m---------------------------------------------------------------------------\u001b[0m",
      "\u001b[0;31mNameError\u001b[0m                                 Traceback (most recent call last)",
      "\u001b[0;32m<ipython-input-1-02d60430f8cc>\u001b[0m in \u001b[0;36m<module>\u001b[0;34m\u001b[0m\n\u001b[1;32m      9\u001b[0m \u001b[0mpca\u001b[0m \u001b[0;34m=\u001b[0m \u001b[0mPCA\u001b[0m\u001b[0;34m(\u001b[0m\u001b[0mn_components\u001b[0m\u001b[0;34m=\u001b[0m\u001b[0;36m2\u001b[0m\u001b[0;34m)\u001b[0m\u001b[0;34m\u001b[0m\u001b[0;34m\u001b[0m\u001b[0m\n\u001b[1;32m     10\u001b[0m \u001b[0;34m\u001b[0m\u001b[0m\n\u001b[0;32m---> 11\u001b[0;31m \u001b[0mpca_fitted\u001b[0m \u001b[0;34m=\u001b[0m \u001b[0mpca\u001b[0m\u001b[0;34m.\u001b[0m\u001b[0mfit\u001b[0m\u001b[0;34m(\u001b[0m\u001b[0mX_train\u001b[0m\u001b[0;34m)\u001b[0m\u001b[0;34m\u001b[0m\u001b[0;34m\u001b[0m\u001b[0m\n\u001b[0m\u001b[1;32m     12\u001b[0m \u001b[0mreduced_train\u001b[0m \u001b[0;34m=\u001b[0m \u001b[0mpca_fitted\u001b[0m\u001b[0;34m.\u001b[0m\u001b[0mtransform\u001b[0m\u001b[0;34m(\u001b[0m\u001b[0mX_train\u001b[0m\u001b[0;34m)\u001b[0m\u001b[0;34m\u001b[0m\u001b[0;34m\u001b[0m\u001b[0m\n\u001b[1;32m     13\u001b[0m \u001b[0;34m\u001b[0m\u001b[0m\n",
      "\u001b[0;31mNameError\u001b[0m: name 'X_train' is not defined"
     ]
    }
   ],
   "source": [
    "from sklearn.decomposition import PCA\n",
    "from sklearn.preprocessing import StandardScaler\n",
    "from matplotlib.cm import rainbow\n",
    "\n",
    "# Ignore warnings\n",
    "import warnings\n",
    "warnings.filterwarnings(\"ignore\")\n",
    "\n",
    "pca = PCA(n_components=2)\n",
    "\n",
    "pca_fitted = pca.fit(X_train)\n",
    "reduced_train = pca_fitted.transform(X_train)\n",
    "\n",
    "\n",
    "\n",
    "fig = plt.figure(figsize = (8,8))\n",
    "ax = fig.add_subplot(1,1,1) \n",
    "ax.set_xlabel('Principal Component 1', fontsize = 15)\n",
    "ax.set_ylabel('Principal Component 2', fontsize = 15)\n",
    "ax.set_title('2 component PCA', fontsize = 20)\n",
    "\n",
    "targets = [0,1,2,3,4,5,6,7,8,9]\n",
    "\n",
    "\n",
    "colors = ['black','blue','fuchsia','grey','cyan','red','yellow','salmon','sienna','tan']\n",
    "\n",
    "for target,color in zip(targets,colors):\n",
    "    \n",
    "    indexes = np.where(y_train==target)[0]\n",
    "\n",
    "    principal_comp_1=  reduced_train[indexes][:,0]\n",
    "    principal_comp_2=  reduced_train[indexes][:,1]\n",
    "    ax.scatter( principal_comp_1, principal_comp_2, c = color, s = 50)\n",
    "    \n",
    "ax.legend(targets)\n",
    "ax.grid()\n"
   ]
  },
  {
   "cell_type": "code",
   "execution_count": 15,
   "metadata": {},
   "outputs": [],
   "source": [
    "from matplotlib.cm import rainbow\n",
    "    \n",
    "    \n",
    "def plot_clf(clf, X, y, labels,title_plot):\n",
    "    fig, ax = plt.subplots()\n",
    "    # title for the plots\n",
    "    title = title_plot\n",
    "    # Set-up grid for plotting.\n",
    "    X0, X1 = X[:, 0], X[:, 1]\n",
    "    \n",
    "    x_min, x_max = X0.min() - 1, X0.max() + 1\n",
    "    y_min, y_max = X1.min() - 1, X1.max() + 1\n",
    "\n",
    "    \n",
    "    xx, yy = np.meshgrid(np.arange(x_min, x_max, 0.05),\n",
    "                         np.arange(y_min, y_max, 0.05))\n",
    "    \n",
    "    Z = clf.predict(np.c_[xx.ravel(), yy.ravel()])\n",
    "    Z = Z.reshape(xx.shape)\n",
    "    \n",
    "    \n",
    "    out = ax.contourf(xx, yy, Z, cmap=plt.cm.coolwarm, alpha=0.8)\n",
    "    \n",
    "    \n",
    "    colors = rainbow(np.linspace(0, 1, len(labels)))\n",
    "\n",
    "    for target,color in zip(targets,colors):\n",
    "        \n",
    "        ax.scatter(X0[y == target], X1[y == target],c=color, label=target,s=50, alpha=0.9, edgecolors='k')\n",
    "     \n",
    "    ax.set_ylabel('Principal Component 1')\n",
    "    ax.set_xlabel('Principal Component 2')\n",
    "    ax.set_xticks(())\n",
    "    ax.set_yticks(())\n",
    "    ax.set_title(title)\n",
    "    ax.legend()\n",
    "    plt.show()\n"
   ]
  },
  {
   "cell_type": "markdown",
   "metadata": {},
   "source": [
    "Παρακάτω σχεδιάζουμε την περιοχή απόφασης χρησιμοποιώντας τα test δεδομένα.\n",
    "Με την χρήση 2 principal components είναι λογικό το classification να απέχει από εκείνο με την χρήση όλων των features. Ωστόσο, βλέπουμε ότι γίνεται μια διάκριση μεταξύ ψηφίων που διαφέρουν αρκετά, ενώ αλλα που μοιάζουν αρκετά πέφτουν στην ίδια περιοχή απόφασης(πχ 3,4,5).\n",
    "Σχεδιάζουμε τόσο την περιοχή απόφασης μόνη της, όσο και με τα στοιχεία που προκύπτουν από το PCA."
   ]
  },
  {
   "cell_type": "code",
   "execution_count": 16,
   "metadata": {},
   "outputs": [
    {
     "name": "stdout",
     "output_type": "stream",
     "text": [
      "0.5161933233682112\n"
     ]
    },
    {
     "name": "stderr",
     "output_type": "stream",
     "text": [
      "'c' argument looks like a single numeric RGB or RGBA sequence, which should be avoided as value-mapping will have precedence in case its length matches with 'x' & 'y'.  Please use a 2-D array with a single row if you really want to specify the same RGB or RGBA value for all points.\n",
      "'c' argument looks like a single numeric RGB or RGBA sequence, which should be avoided as value-mapping will have precedence in case its length matches with 'x' & 'y'.  Please use a 2-D array with a single row if you really want to specify the same RGB or RGBA value for all points.\n",
      "'c' argument looks like a single numeric RGB or RGBA sequence, which should be avoided as value-mapping will have precedence in case its length matches with 'x' & 'y'.  Please use a 2-D array with a single row if you really want to specify the same RGB or RGBA value for all points.\n",
      "'c' argument looks like a single numeric RGB or RGBA sequence, which should be avoided as value-mapping will have precedence in case its length matches with 'x' & 'y'.  Please use a 2-D array with a single row if you really want to specify the same RGB or RGBA value for all points.\n",
      "'c' argument looks like a single numeric RGB or RGBA sequence, which should be avoided as value-mapping will have precedence in case its length matches with 'x' & 'y'.  Please use a 2-D array with a single row if you really want to specify the same RGB or RGBA value for all points.\n",
      "'c' argument looks like a single numeric RGB or RGBA sequence, which should be avoided as value-mapping will have precedence in case its length matches with 'x' & 'y'.  Please use a 2-D array with a single row if you really want to specify the same RGB or RGBA value for all points.\n",
      "'c' argument looks like a single numeric RGB or RGBA sequence, which should be avoided as value-mapping will have precedence in case its length matches with 'x' & 'y'.  Please use a 2-D array with a single row if you really want to specify the same RGB or RGBA value for all points.\n",
      "'c' argument looks like a single numeric RGB or RGBA sequence, which should be avoided as value-mapping will have precedence in case its length matches with 'x' & 'y'.  Please use a 2-D array with a single row if you really want to specify the same RGB or RGBA value for all points.\n",
      "'c' argument looks like a single numeric RGB or RGBA sequence, which should be avoided as value-mapping will have precedence in case its length matches with 'x' & 'y'.  Please use a 2-D array with a single row if you really want to specify the same RGB or RGBA value for all points.\n",
      "'c' argument looks like a single numeric RGB or RGBA sequence, which should be avoided as value-mapping will have precedence in case its length matches with 'x' & 'y'.  Please use a 2-D array with a single row if you really want to specify the same RGB or RGBA value for all points.\n"
     ]
    },
    {
     "data": {
      "image/png": "[encoded data removed]",
      "text/plain": [
       "<Figure size 432x288 with 1 Axes>"
      ]
     },
     "metadata": {},
     "output_type": "display_data"
    }
   ],
   "source": [
    "# firstly we trasform test set!!\n",
    "reduced_test=pca_fitted.transform(X_test)\n",
    "\n",
    "\n",
    "euc = Eucleidian_classifier()\n",
    "euc.fit(reduced_train,y_train)\n",
    "euc.predict(reduced_test)\n",
    "print(euc.score(reduced_test,y_test))\n",
    "\n",
    "plot_clf(euc,reduced_test,y_test,targets,'Decision Surface of Euclidean Estimator')"
   ]
  },
  {
   "cell_type": "markdown",
   "metadata": {},
   "source": [
    "Βήμα 13γ:\n",
    "Παρακάτω σχεδιάζουμε την καμπύλη εκμάθησης του ευκλείδιου ταξινομητή.\n",
    "Παρατηρούμε ότι μετά από περίπου 4000 δείγματα τα Training και Cross-validation scores σχεδόν ταυτίζονται. Αυτό δείχνει ότι δεν απαιτούνται παραπάνω δείγματα για την εκπαίδευση του μοντέλου μας (εν γένει με παραπάνω δείγματα θα πετυχαίναμε παρόμοιο αποτέλεσμα).\n",
    "Μάλιστα, αυτό συμβαίνει διότι το μοντέλο μας δεν περιέχει υπερπαραμέτρους οι οποιές πρέπει να \"εκπαιδευτούν\". Έτσι λοιπόν το learning curve είναι σχεδόν ευθεία."
   ]
  },
  {
   "cell_type": "code",
   "execution_count": 17,
   "metadata": {},
   "outputs": [
    {
     "data": {
      "image/png": "[encoded data removed]",
      "text/plain": [
       "<Figure size 432x288 with 1 Axes>"
      ]
     },
     "metadata": {
      "needs_background": "light"
     },
     "output_type": "display_data"
    }
   ],
   "source": [
    "from sklearn.model_selection import learning_curve\n",
    "\n",
    "train_sizes, train_scores, test_scores = learning_curve(\n",
    "    Eucleidian_classifier(), X_train, y_train, cv=5, n_jobs=-1, \n",
    "    train_sizes=np.linspace(.2, 1.0, 10))\n",
    "\n",
    "def plot_learning_curve(train_scores, test_scores, train_sizes, ylim=(0, 1)):\n",
    "    plt.figure()\n",
    "    plt.title(\"Learning Curve\")\n",
    "    if ylim is not None:\n",
    "        plt.ylim(*ylim)\n",
    "    plt.xlabel(\"Training examples\")\n",
    "    plt.ylabel(\"Score\")\n",
    "\n",
    "    train_scores_mean = np.mean(train_scores, axis=1)\n",
    "    train_scores_std = np.std(train_scores, axis=1)\n",
    "    test_scores_mean = np.mean(test_scores, axis=1)\n",
    "    test_scores_std = np.std(test_scores, axis=1)\n",
    "    plt.grid()\n",
    "\n",
    "    plt.fill_between(train_sizes, train_scores_mean - train_scores_std,\n",
    "                     train_scores_mean + train_scores_std, alpha=0.1,\n",
    "                     color=\"r\")\n",
    "    plt.fill_between(train_sizes, test_scores_mean - test_scores_std,\n",
    "                     test_scores_mean + test_scores_std, alpha=0.1, color=\"g\")\n",
    "    plt.plot(train_sizes, train_scores_mean, 'o-', color=\"r\",\n",
    "             label=\"Training score\")\n",
    "    plt.plot(train_sizes, test_scores_mean, 'o-', color=\"g\",\n",
    "             label=\"Cross-validation score\")\n",
    "\n",
    "    plt.legend(loc=\"best\")\n",
    "    plt.show()\n",
    "\n",
    "plot_learning_curve(train_scores, test_scores, train_sizes, ylim=(.6, 1))"
   ]
  },
  {
   "cell_type": "markdown",
   "metadata": {},
   "source": [
    "Βήμα 14: Υπολογισμός a priori πιθανοτήτας για κάθε κατηγορία."
   ]
  },
  {
   "cell_type": "code",
   "execution_count": 18,
   "metadata": {},
   "outputs": [
    {
     "name": "stdout",
     "output_type": "stream",
     "text": [
      "A priori probabilities of each class:\n",
      "=====================================\n",
      "Value |  Frequency\n",
      "0     |  0.164\n",
      "1     |  0.138\n",
      "2     |  0.1\n",
      "3     |  0.09\n",
      "4     |  0.089\n",
      "5     |  0.076\n",
      "6     |  0.091\n",
      "7     |  0.088\n",
      "8     |  0.074\n",
      "9     |  0.088\n",
      "=====================================\n",
      "Sum of frequencies is: 1.0\n"
     ]
    },
    {
     "data": {
      "image/png": "[encoded data removed]",
      "text/plain": [
       "<Figure size 432x288 with 1 Axes>"
      ]
     },
     "metadata": {
      "needs_background": "light"
     },
     "output_type": "display_data"
    }
   ],
   "source": [
    "# Given the labels part of the dataset, calculate the a priori probabilites.\n",
    "def a_priori_calc(labels,\n",
    "                  visualize = True):\n",
    "    \n",
    "    unique_labels = np.unique(labels) # locate the different labels\n",
    "    bin_count = np.bincount(labels) # count each label appearences\n",
    "    \n",
    "    if visualize:\n",
    "        plt.xlabel('Digit')\n",
    "        plt.ylabel('Appearencies')\n",
    "        plt.title('Labels appearencies')\n",
    "        plt.stem(range(10),bin_count)\n",
    "\n",
    "    return unique_labels,bin_count / labels.shape\n",
    "    \n",
    "if __name__ == \"__main__\":\n",
    "    val, a_priori = a_priori_calc(y_train)\n",
    "    print('A priori probabilities of each class:')\n",
    "    print('=====================================')\n",
    "    print('Value |  Frequency')\n",
    "    for value,freq in zip(val,a_priori):\n",
    "        print('{}     |  {}'.format(value,round(freq,3)))\n",
    "    else:\n",
    "        print('=====================================')\n",
    "        print('Sum of frequencies is: {}'.format(sum(a_priori)))"
   ]
  },
  {
   "cell_type": "markdown",
   "metadata": {},
   "source": [
    "Βήματα 15,16: Κατασκευή Gaussian Naive Bayes classifier,τρέξιμο με var=1 και σύγκριση με GNB from scikit.\n",
    "\n",
    "Παρατηρήσαμε ότι κατά τον υπολογισμό της aposteriory πιθανότητας κάποιες τιμές του variance είναι μηδενικές με αποτέλεσμα να μην μπορεί να υπολογιστεί η πιθανότητα που δίνει η Gaussian κατανομή. Έτσι λοιπόν στην πρώτη υλοποίηση αγνοήσαμε την ύπαρξη αυτής της πιθανότητας στο γινόμενο πιθανοτήτων για την πρόβλεψη με χρήση maximum likelihood.\n",
    "\n",
    "Στην συνέχεια σκεφτήκαμε να λάβουμε υπόψιν και αυτά τα features στον υπολογισμό της πιθανότητας , εισάγωντας θόρυβο στο αρχικό dataset με σκοπό να αλλάξει το variance και να μην αποκτήσει μηδενική τιμή. Έτσι λοιπόν καταφέραμε και πετύχαμε καλύτερο αποτέλεσμα στον ταξινομητή.\n"
   ]
  },
  {
   "cell_type": "markdown",
   "metadata": {},
   "source": [
    "Gaussian Naive Bayes Classifier:"
   ]
  },
  {
   "cell_type": "code",
   "execution_count": 19,
   "metadata": {},
   "outputs": [],
   "source": [
    "import math\n",
    "# Create the Gaussian Naive Bayes classifier class\n",
    "class Gaussian_Naive_Bayes_classifier(BaseEstimator,ClassifierMixin):\n",
    "    \n",
    "    \n",
    "    def __init__(self):\n",
    "        self.X_mean = None\n",
    "        self.X_var = None\n",
    "        self.a_priory = None\n",
    "        \n",
    "        \n",
    "    def fit(self,X_train,y_train,var=None):\n",
    "        #Find all different labels (digits)\n",
    "        self.labels_values = np.unique(y_train)\n",
    "        \n",
    "        dims = (aux_x,aux_y) = (self.labels_values.shape[0],X_train.shape[1])\n",
    "        \n",
    "        #computing mean and var for every feature (xi) according to its class (y)\n",
    "        # this computation may not be right! shall we compute mean and var for each class with MLE??\n",
    "        self.X_mean = np.empty(dims)\n",
    "        self.X_var = np.empty(dims)\n",
    "        \n",
    "        for label in self.labels_values:\n",
    "            d_mean, d_var = stats_for_label(label,X_train,y_train)\n",
    "            self.X_mean[label] = d_mean\n",
    "            self.X_var[label] = d_var\n",
    "            #self.X_var[label] = np.ones(dims[1])\n",
    "        \n",
    "        if var is not None:\n",
    "            self.X_var[:]=var\n",
    "        \n",
    "        temp,self.a_priory = a_priori_calc(y_train,visualize=False)\n",
    "    \n",
    "    def computation_of_gaussian_prop(self,sample,mean,var):\n",
    "        \n",
    "        # Sos we give as argument the var and not the std!!\n",
    "        temp1 = ((-1) * np.power((sample - mean),2) / ( 2 * var ))\n",
    "        temp2 = np.exp( temp1 )\n",
    "        temp3 = 1 / np.sqrt( 2* math.pi* var )\n",
    "        \n",
    "        return temp3*temp2   \n",
    "    \n",
    "    \n",
    "    def makeprediction(self,sample,mean_of_every_label,var_of_every_label,labels):\n",
    "        \n",
    "        propabilities = np.empty(labels.shape[0])\n",
    "        \n",
    "        for label in labels:\n",
    "            #compute the product of P(xi|y) for i=1..n\n",
    "            props = self.computation_of_gaussian_prop(sample,mean_of_every_label[label],var_of_every_label[label])\n",
    "            product=1\n",
    "            for x in props:\n",
    "                if math.isnan(x)==False:\n",
    "                    product = x*product\n",
    "            \n",
    "            propabilities[label] = product * self.a_priory[label]\n",
    "            \n",
    "        return np.argmax(propabilities)\n",
    "    \n",
    "    \n",
    "    def predict(self,X_test):\n",
    "        \n",
    "        number_of_samples, number_of_features = X_test.shape\n",
    "        \n",
    "        #now for each sample lets make a prediction!\n",
    "        pred = np.empty(number_of_samples)\n",
    "        \n",
    "        counter=0\n",
    "        \n",
    "        for sample in X_test:\n",
    "            pred[counter] = self.makeprediction(sample,self.X_mean,self.X_var,self.labels_values)\n",
    "            counter += 1\n",
    "            \n",
    "            \n",
    "        return pred.astype(np.int64)\n",
    "    \n",
    "    \n",
    "    def score(self,X_test,y_test):\n",
    "        \n",
    "        results = self.predict(X_test)# make a list for each prediction made\n",
    "        flags = y_test - results # subtruct from label array to find the correct predictions (those with zero)\n",
    "        correct = np.count_nonzero(flags == 0) # count the correct predictions\n",
    "        return correct / y_test.shape[0]"
   ]
  },
  {
   "cell_type": "code",
   "execution_count": 20,
   "metadata": {},
   "outputs": [
    {
     "name": "stdout",
     "output_type": "stream",
     "text": [
      "Accuracy of Bayes classifier\n",
      "============================\n",
      "Score: 77.48%\n",
      "Score with Variance = 1: 81.27%\n"
     ]
    }
   ],
   "source": [
    "gnb1 = Gaussian_Naive_Bayes_classifier()\n",
    "\n",
    "print('Accuracy of Bayes classifier')\n",
    "print('============================')\n",
    "gnb1.fit(X_train,y_train)\n",
    "print('Score: {}%'.format(round(gnb1.score(X_test,y_test)*100,2)))\n",
    "gnb1.fit(X_train,y_train,1)\n",
    "print('Score with Variance = 1: {}%'.format(round(gnb1.score(X_test,y_test)*100,2)))"
   ]
  },
  {
   "cell_type": "code",
   "execution_count": 21,
   "metadata": {},
   "outputs": [],
   "source": [
    "def add_noise(data,mean = 0,std = 0.1):\n",
    "\n",
    "    noisy_data = []\n",
    "    for sample in data[:]:\n",
    "\n",
    "        # Add noise so variance is not zero\n",
    "        noise = np.random.normal(mean,std,sample.shape[0])\n",
    "        noisy_data.append(sample + noise)\n",
    "    else:\n",
    "        return np.asarray(noisy_data)"
   ]
  },
  {
   "cell_type": "code",
   "execution_count": 22,
   "metadata": {},
   "outputs": [
    {
     "name": "stdout",
     "output_type": "stream",
     "text": [
      "Accuracy of Bayes classifier with adding noise on dataset!\n",
      "============================\n",
      "Score: 80.47%\n"
     ]
    }
   ],
   "source": [
    "#concatenate data\n",
    "alldata = np.concatenate((X_train,X_test),axis=0)\n",
    "\n",
    "#add noise on data\n",
    "noisy=add_noise(alldata)\n",
    "\n",
    "#split data again to train and test\n",
    "noisy_train= noisy[0:X_train.shape[0]][:]\n",
    "noisy_test= noisy[X_train.shape[0]:][:]\n",
    "\n",
    "\n",
    "print('Accuracy of Bayes classifier with adding noise on dataset!')\n",
    "print('============================')\n",
    "gnb1.fit(noisy_train,y_train)\n",
    "print('Score: {}%'.format(round(gnb1.score(noisy_test,y_test)*100,2)))\n"
   ]
  },
  {
   "cell_type": "markdown",
   "metadata": {},
   "source": [
    "Στην συνέχεια χρησιμοποιούμε τον Gaussian Naive Bayes Classifier του scikit learn."
   ]
  },
  {
   "cell_type": "code",
   "execution_count": 23,
   "metadata": {},
   "outputs": [
    {
     "name": "stdout",
     "output_type": "stream",
     "text": [
      "Accuracy of scikit Bayes classifier (NO noise in dataset)\n",
      "===================================\n",
      "Accuracy: 71.95% \n",
      "\n",
      "Accuracy of scikit Bayes classifier ( noise in dataset)\n",
      "===================================\n",
      "Accuracy: 80.47%\n"
     ]
    }
   ],
   "source": [
    "from sklearn.naive_bayes import GaussianNB\n",
    "gnb_sci = GaussianNB()\n",
    "\n",
    "print('Accuracy of scikit Bayes classifier (NO noise in dataset)')\n",
    "print('===================================')\n",
    "gnb_sci.fit(X_train,y_train)\n",
    "print('Accuracy: {}% \\n'.format(round(gnb_sci.score(X_test,y_test)*100,2)))\n",
    "\n",
    "print('Accuracy of scikit Bayes classifier ( noise in dataset)')\n",
    "print('===================================')\n",
    "gnb_sci.fit(noisy_train,y_train)\n",
    "print('Accuracy: {}%'.format(round(gnb_sci.score(noisy_test,y_test)*100,2)))"
   ]
  },
  {
   "cell_type": "markdown",
   "metadata": {},
   "source": [
    "Παρατηρούμε ότι χωρίς την εισαγωγή θορύβου έχουμε πετύχει ένα καλύτερο αποτέλεσμα από την υλοποίηση του scikit. Ωστόσο, αν βάλουμε θόρυβο τα αποτελέσματα είναι ίδια.\n"
   ]
  },
  {
   "cell_type": "markdown",
   "metadata": {},
   "source": [
    "Βήμα 17: Στην συνέχεια ομαδοποιούμε διάφορους classifiers και τους τρέχουμε με διαφορετικά kernels."
   ]
  },
  {
   "cell_type": "code",
   "execution_count": 24,
   "metadata": {},
   "outputs": [
    {
     "name": "stdout",
     "output_type": "stream",
     "text": [
      "GaussianNB:\n",
      "0.7194818136522172\n",
      "BernoulliNB:\n",
      "0.8251121076233184\n"
     ]
    }
   ],
   "source": [
    "# lets use some naive bayes classifiers from scikit...\n",
    "from sklearn.naive_bayes import BernoulliNB\n",
    "\n",
    "models = [GaussianNB(),BernoulliNB()]\n",
    "\n",
    "models = (clf.fit(X_train, y_train) for clf in models)\n",
    "\n",
    "titles = ('GaussianNB:','BernoulliNB:')\n",
    "\n",
    "for clf, title in zip(models, titles):\n",
    "    clf.predict(X_test)\n",
    "    print(title)\n",
    "    print(clf.score(X_test,y_test))"
   ]
  },
  {
   "cell_type": "code",
   "execution_count": 25,
   "metadata": {},
   "outputs": [],
   "source": [
    "#lets now try knn...with different number of neighbors.\n",
    "from sklearn.neighbors import KNeighborsClassifier\n",
    "\n",
    "def knn_tester(X_train,\n",
    "                       y_train,\n",
    "                       X_test,\n",
    "                       y_test):\n",
    "    \n",
    "    \n",
    "    neighbors = [1,3,5,9,11,17]\n",
    "    knnscores = []\n",
    "    \n",
    "    for k in neighbors:\n",
    "        knn = KNeighborsClassifier(n_neighbors = k,n_jobs = -1)\n",
    "        knn.fit(X_train,y_train)\n",
    "        knnscores.append(knn.score(X_test,y_test))\n",
    "    else:\n",
    "        return knnscores,neighbors\n",
    "\n",
    "# Function to plot time series\n",
    "def plot_t_series(x,\n",
    "                  y):\n",
    "    \n",
    "    plt.title('kNN implementation results')\n",
    "    plt.xlabel('Number of neighbors')\n",
    "    plt.ylabel('Accuracy')\n",
    "    plt.plot(x,y)\n",
    "    plt.show()"
   ]
  },
  {
   "cell_type": "code",
   "execution_count": 26,
   "metadata": {},
   "outputs": [
    {
     "name": "stdout",
     "output_type": "stream",
     "text": [
      "([0.9436970602889886, 0.9446935724962631, 0.9446935724962631, 0.9372197309417041, 0.9312406576980568, 0.9257598405580468], [1, 3, 5, 9, 11, 17])\n"
     ]
    },
    {
     "data": {
      "image/png": "[encoded data removed]",
      "text/plain": [
       "<Figure size 432x288 with 1 Axes>"
      ]
     },
     "metadata": {
      "needs_background": "light"
     },
     "output_type": "display_data"
    }
   ],
   "source": [
    "print(knn_tester(X_train,y_train,X_test,y_test))\n",
    "scores, neighbors = knn_tester(X_train,y_train,X_test,y_test)\n",
    "plot_t_series(neighbors,scores)"
   ]
  },
  {
   "cell_type": "markdown",
   "metadata": {},
   "source": [
    "Παρατηρούμε ότι για κ=3,5 πετυχαίνουμε το καλύτερο accuracy.\n",
    "\n",
    "Ωστόσο αυτός ο τρόπος δεν είναι τόσο φαίνεται να μην είναι τόσο αντιπροσωπευτικός...\n",
    "Παρακάτω ελέγξαμε ποιος είναι ο βέλτιστος αριθμός γειτόνων χρησιμοποιώντας 7 fold cross-validation με στόχο την ελαχιστοποίηση του MSE,δίνοντας τελικά σαν αποτέλεσμα 1.\n",
    "Επειδή ο χρόνος εκτέλεσης είναι αρκετά μεγάλος βάλαμε αυτό το κομμάτι κώδικα σε σχόλια."
   ]
  },
  {
   "cell_type": "code",
   "execution_count": 27,
   "metadata": {},
   "outputs": [
    {
     "data": {
      "text/plain": [
       "'\\n#lets pick all odds neighbors from 1 to 50..\\nmyList = list(range(1,15))\\n\\n# subsetting just the odd ones\\nneighbors = [x for x in myList if(x%2!=0)]\\n\\n# empty list that will hold cv scores\\ncv_scores = []\\n\\n# perform 7-fold cross validation\\nfor k in neighbors:\\n    knn = KNeighborsClassifier(n_neighbors=k)\\n    scores = cross_val_score(knn, X_train, y_train, cv=7, scoring=\\'accuracy\\')\\n    cv_scores.append(scores.mean())\\n    print(k)\\n# changing to misclassification error\\nMSE = [1 - x for x in cv_scores]\\n\\n# determining best k\\noptimal_k = neighbors[MSE.index(min(MSE))]\\nprint (\"The optimal number of neighbors is %d\" % optimal_k)\\n\\n# plot misclassification error vs k\\nplt.plot(neighbors, MSE)\\nplt.xlabel(\\'Number of Neighbors K\\')\\nplt.ylabel(\\'Misclassification Error\\')\\nplt.show()\\n'"
      ]
     },
     "execution_count": 27,
     "metadata": {},
     "output_type": "execute_result"
    }
   ],
   "source": [
    "\"\"\"\n",
    "#lets pick all odds neighbors from 1 to 50..\n",
    "myList = list(range(1,15))\n",
    "\n",
    "# subsetting just the odd ones\n",
    "neighbors = [x for x in myList if(x%2!=0)]\n",
    "\n",
    "# empty list that will hold cv scores\n",
    "cv_scores = []\n",
    "\n",
    "# perform 7-fold cross validation\n",
    "for k in neighbors:\n",
    "    knn = KNeighborsClassifier(n_neighbors=k)\n",
    "    scores = cross_val_score(knn, X_train, y_train, cv=7, scoring='accuracy')\n",
    "    cv_scores.append(scores.mean())\n",
    "    print(k)\n",
    "# changing to misclassification error\n",
    "MSE = [1 - x for x in cv_scores]\n",
    "\n",
    "# determining best k\n",
    "optimal_k = neighbors[MSE.index(min(MSE))]\n",
    "print (\"The optimal number of neighbors is %d\" % optimal_k)\n",
    "\n",
    "# plot misclassification error vs k\n",
    "plt.plot(neighbors, MSE)\n",
    "plt.xlabel('Number of Neighbors K')\n",
    "plt.ylabel('Misclassification Error')\n",
    "plt.show()\n",
    "\"\"\""
   ]
  },
  {
   "cell_type": "markdown",
   "metadata": {},
   "source": [
    "Παρακάτω δοκιμάσαμε μερικά svm μοντέλα με διαφορετικά kernels..\n",
    "Σύμφωνα με τα αποτελέσματα καλύτερα φάνηκε να είναι εκείνο με το πολυωνυμικό."
   ]
  },
  {
   "cell_type": "code",
   "execution_count": 28,
   "metadata": {},
   "outputs": [
    {
     "name": "stdout",
     "output_type": "stream",
     "text": [
      "SVC(C=1.0, cache_size=200, class_weight=None, coef0=0.0,\n",
      "  decision_function_shape='ovr', degree=3, gamma='auto_deprecated',\n",
      "  kernel='poly', max_iter=-1, probability=False, random_state=None,\n",
      "  shrinking=True, tol=0.001, verbose=False):\n",
      "0.9466865969108121\n",
      "=========================\n",
      "SVC(C=1.0, cache_size=200, class_weight=None, coef0=0.0,\n",
      "  decision_function_shape='ovr', degree=3, gamma='auto_deprecated',\n",
      "  kernel='linear', max_iter=-1, probability=False, random_state=None,\n",
      "  shrinking=True, tol=0.001, verbose=False):\n",
      "0.9262580966616841\n",
      "=========================\n",
      "SVC(C=1.0, cache_size=200, class_weight=None, coef0=0.0,\n",
      "  decision_function_shape='ovr', degree=3, gamma='auto_deprecated',\n",
      "  kernel='rbf', max_iter=-1, probability=False, random_state=None,\n",
      "  shrinking=True, tol=0.001, verbose=False):\n",
      "0.9422022919780767\n",
      "=========================\n",
      "SVC(C=1.0, cache_size=200, class_weight=None, coef0=0.0,\n",
      "  decision_function_shape='ovr', degree=3, gamma='auto_deprecated',\n",
      "  kernel='sigmoid', max_iter=-1, probability=False, random_state=None,\n",
      "  shrinking=True, tol=0.001, verbose=False):\n",
      "0.9147982062780269\n",
      "=========================\n",
      "LinearSVC(C=1.0, class_weight=None, dual=True, fit_intercept=True,\n",
      "     intercept_scaling=1, loss='squared_hinge', max_iter=5000,\n",
      "     multi_class='crammer_singer', penalty='l2', random_state=None,\n",
      "     tol=0.0001, verbose=0):\n",
      "0.898355754857997\n",
      "=========================\n"
     ]
    }
   ],
   "source": [
    "#now lets try some svm models..\n",
    "from sklearn import svm\n",
    "\n",
    "# edw tha valw merikous akoma...    \n",
    "models = [svm.SVC(kernel='poly'),svm.SVC(kernel='linear'),svm.SVC(kernel='rbf'),svm.SVC(kernel='sigmoid'),\n",
    "          svm.LinearSVC(multi_class='crammer_singer',max_iter=5000)]\n",
    "  \n",
    "for model in models:\n",
    "    mysvm = model\n",
    "    mysvm.fit(X_train,y_train)\n",
    "    print(str(model)+\":\")\n",
    "    print(mysvm.score(X_test,y_test))\n",
    "    print(\"=========================\")"
   ]
  },
  {
   "cell_type": "code",
   "execution_count": null,
   "metadata": {},
   "outputs": [],
   "source": []
  },
  {
   "cell_type": "markdown",
   "metadata": {},
   "source": [
    "Βήμα 18: Σε αυτό το βήμα χρησιμοποιούμε τον voting classifier του scikit για επιτύχουμε υψηλότερη επίδοση από τους επιμέρους classifiers."
   ]
  },
  {
   "cell_type": "markdown",
   "metadata": {},
   "source": [
    "Παρακάτω χρησιμοποιούμε hard voting..."
   ]
  },
  {
   "cell_type": "code",
   "execution_count": 29,
   "metadata": {},
   "outputs": [],
   "source": [
    "from sklearn.ensemble import VotingClassifier \n",
    "\n",
    "gnb1 = Gaussian_Naive_Bayes_classifier()\n",
    "bnb = BernoulliNB()\n",
    "knn = KNeighborsClassifier(n_neighbors = 5,n_jobs = -1)\n",
    "\n",
    "svm_poly = svm.SVC(kernel='poly',probability=True)\n",
    "svm_lin = svm.SVC(kernel='linear',probability=True)\n",
    "svm_rbf = svm.SVC(kernel='rbf',probability=True)\n"
   ]
  },
  {
   "cell_type": "code",
   "execution_count": 30,
   "metadata": {},
   "outputs": [
    {
     "name": "stdout",
     "output_type": "stream",
     "text": [
      "0.9491778774289985\n"
     ]
    }
   ],
   "source": [
    "eclf1 = VotingClassifier(estimators=[ ('KNN', knn),('SVM_poly', svm_poly),('Svm_lin',svm_lin)], voting='hard')\n",
    "eclf1=eclf1.fit(X_train, y_train)\n",
    "print(eclf1.score(X_test,y_test))"
   ]
  },
  {
   "cell_type": "code",
   "execution_count": 31,
   "metadata": {},
   "outputs": [
    {
     "name": "stdout",
     "output_type": "stream",
     "text": [
      "0.9496761335326358\n"
     ]
    }
   ],
   "source": [
    "eclf2 = VotingClassifier(estimators=[ ('KNN', knn),('SVM_poly', svm_poly),('Svm_lin',svm_lin)], voting='soft',weights=[1,1.2,1.1])\n",
    "eclf2 = eclf2.fit(X_train, y_train)\n",
    "print(eclf2.score(X_test,y_test))\n",
    "\n"
   ]
  },
  {
   "cell_type": "markdown",
   "metadata": {},
   "source": [
    "Παρατηρούμε οτι και με τις δύο τεχνικές voting πετυχαίνουμε καλύτερο αποτέλεσμα. Ωστόσο, η διαφορά δεν είναι πολύ μεγάλη.Αυτό συμβαίνει γιατί οι classifiers κάνουν σχεδόν τα ίδια λάθη και αν κάποιος είναι καλύτερος οφείλεται στο ότι δεν κάνει κάποια απο αυτά. Δηλαδή αν εμφανίζαμε τα ποσοστ;ά των λαθών σε κάθε ψηφίο θα βλέπαμε οτι δεν υπάρχουν classifiers με περίπου ίδιο ποσοστά accuracy και διαφορετικά λάθη.\n",
    "\n",
    "Επίσης πρέπει να προσέξουμε ο αριθμός των classifiers να είναι μονός ώστε να μην υπάρξουν ισοβαθμίες.\n",
    "\n",
    "Στο επόμενο βήμα χρησιμοποιούμε τον Bagging Classifier για να δημιουργήσουμε ενα ensemble."
   ]
  },
  {
   "cell_type": "code",
   "execution_count": 32,
   "metadata": {},
   "outputs": [
    {
     "name": "stdout",
     "output_type": "stream",
     "text": [
      "0.9302441454907823\n"
     ]
    }
   ],
   "source": [
    "\n",
    "from sklearn.ensemble import BaggingClassifier\n",
    "eclf3 = VotingClassifier(estimators=[('Ber',bnb),('SVM_poly', svm_poly),('Svm_lin',svm_lin)], voting='soft',weights=[1,1.2,1.1])\n",
    "ensemble = BaggingClassifier(base_estimator=eclf3)\n",
    "print( ensemble.fit(X_train,y_train).score(X_test,y_test))"
   ]
  },
  {
   "cell_type": "markdown",
   "metadata": {},
   "source": [
    "Στο παρακάτω βήμα υλοποιούμε έναν data loader για το dataset μας. Έτσι εισάγοντας το αρχείο με τα δεδομένα μπορούμε να το φορτώσουμε έχοντας τα features σε tensors.\n",
    "\n",
    "Επίσης υλοποιήσαμε την κλάση Data_splitter η οποία μπορεί να χρησιμοποιηθεί για split του dataset.(Τα sets που γυρνάει είναι τύπου Subset συμβατά με την class Dataset του Pytorch).\n",
    "\n",
    "O Data_splitter χρησιμοποιήθηκε για χωρισμό του training set σε train set(80%) και validation set(20%)."
   ]
  },
  {
   "cell_type": "code",
   "execution_count": 33,
   "metadata": {},
   "outputs": [],
   "source": [
    "from torch.utils.data import Dataset\n",
    "import numpy as np\n",
    "import os\n",
    "import torch\n",
    "\n",
    "class DigitsLoader(Dataset):\n",
    "    \n",
    "    def __init__(self,\n",
    "                 filename,\n",
    "                 path,\n",
    "                 trans= None):\n",
    "        \n",
    "        self.trans = trans\n",
    "        \n",
    "        # Read set of data\n",
    "        join_path = os.path.join(path,filename)\n",
    "        with open(join_path) as train_set:\n",
    "            X = []\n",
    "            y = []\n",
    "            for line in train_set.readlines():\n",
    "                split_line = line.split() # split numbers\n",
    "\n",
    "                buffer = []\n",
    "                for number in split_line:\n",
    "                    buffer.append(float(number)) # typecast every sting to float\n",
    "\n",
    "                digit = int(buffer[0]) # keep first digit as int which is the label\n",
    "                rest = buffer[1:] # keep rest as description\n",
    "\n",
    "                X.append([rest]) # append to list of lists of descriptions\n",
    "                y.append(digit) # append to list of labels\n",
    "        \n",
    "        X = np.asarray(X).squeeze()\n",
    "        y = np.asarray(y)\n",
    "        \n",
    "        self.samples = list(zip(X,y))\n",
    "        \n",
    "        \n",
    "        \n",
    "    # Define __len__ and __getitem__\n",
    "    def __len__(self):\n",
    "        return len(self.samples)\n",
    "    \n",
    "    def __getitem__(self, idx):\n",
    "        if self.trans is not None:\n",
    "            return self.trans(self.samples[idx])\n",
    "        else:\n",
    "            return self.samples[idx]\n",
    "\n",
    "        \n",
    "        \n",
    "from torch._utils import _accumulate\n",
    "from torch import randperm\n",
    "import math\n",
    "\n",
    "class Subset(Dataset):\n",
    "    \"\"\"\n",
    "    Subset of a dataset at specified indices.\n",
    "\n",
    "    Arguments:\n",
    "        dataset (Dataset): The whole Dataset\n",
    "        indices (sequence): Indices in the whole set selected for subset\n",
    "    \"\"\"\n",
    "    def __init__(self, dataset, indices):\n",
    "        self.dataset = dataset\n",
    "        self.indices = indices\n",
    "\n",
    "    def __getitem__(self, idx):\n",
    "        return self.dataset[self.indices[idx]]\n",
    "\n",
    "    def __len__(self):\n",
    "        return len(self.indices)\n",
    "    \n",
    "# This class splits dataset  randomly\n",
    "class Data_splitter:\n",
    "\n",
    "    \n",
    "    def random_split(self,dataset, lengths):\n",
    "        \"\"\"\n",
    "        Randomly split a dataset into non-overlapping new datasets of given lengths.\n",
    "\n",
    "        Arguments:\n",
    "            dataset (Dataset): Dataset to be split\n",
    "            lengths (sequence): lengths of splits to be produced\n",
    "        \"\"\"\n",
    "        if sum(lengths) != len(dataset):\n",
    "            raise ValueError(\"Sum of input lengths does not equal the length of the input dataset!\")\n",
    "\n",
    "        indices = randperm(sum(lengths))\n",
    "        #cast to DigitsLoader\n",
    "        return [Subset(dataset, indices[offset - length:offset]) for offset, length in zip(_accumulate(lengths), lengths)]\n",
    "\n",
    "    \n",
    "    def split_perc(self,dataset,percentages):\n",
    "        dataset_len = len(dataset)\n",
    "        \n",
    "        if sum(percentages) != 100:\n",
    "            raise ValueError(\"Sum of percentages does not equal 100!\")\n",
    "        lengths=[]\n",
    "        for counter,percentage in enumerate(percentages):\n",
    "            if(counter<len(percentages)-1):\n",
    "                lengths.append( math.floor(percentage/100*dataset_len) )\n",
    "                \n",
    "            else:\n",
    "                mysum = sum(lengths)\n",
    "                lengths.append(dataset_len-mysum)\n",
    "        return self.random_split(dataset,lengths)\n",
    "            "
   ]
  },
  {
   "cell_type": "code",
   "execution_count": 34,
   "metadata": {},
   "outputs": [],
   "source": [
    "from torchvision import transforms,utils\n",
    "\n",
    "class ToTensor(object):\n",
    "    def __init__(self):\n",
    "          pass\n",
    "        \n",
    "    def __call__(self, datum):\n",
    "        x, y = datum[0], datum[1]\n",
    "        t = torch.from_numpy(x).type(torch.FloatTensor) \n",
    "        t.requires_grad = False\n",
    "        return t,y"
   ]
  },
  {
   "cell_type": "code",
   "execution_count": 35,
   "metadata": {},
   "outputs": [],
   "source": [
    "#now load the train set and test set and transform them!!\n",
    "\n",
    "my_transform = transforms.Compose([ToTensor()])\n",
    "\n",
    "digits_train = DigitsLoader('train.txt','dataset/', trans=my_transform)\n",
    "digits_test = DigitsLoader('test.txt','dataset/', trans=my_transform)\n",
    "\n",
    "\n",
    "\n",
    "labels={}\n",
    "for counter,(sample,label) in enumerate(digits_train):\n",
    "    if label not in labels:\n",
    "        labels[label]=1\n",
    "\n",
    "features_number = len(digits_train[0][0])\n",
    "labels_number = len(labels.keys())\n",
    "\n",
    "\n",
    "#now lets split train data to train set (80%) and validation set (20%)...\n",
    "\n",
    "splitter = Data_splitter()\n",
    "[train,val] = splitter.split_perc(digits_train,[80,20])\n"
   ]
  },
  {
   "cell_type": "markdown",
   "metadata": {},
   "source": [
    "Στην συνέχεια υλοποιήσαμε 2 τύπους νευρωνικών.\n",
    "Ο πρώτος είχε 1 hidden layer,ενώ ο δεύτερος 2.\n",
    "Παρατηρήσαμε ότι το 2ο μοντέλο έδινε καλύτερα αποτελέσματα (γεγονός λογικό αφού είναι πιο σύνθετο) και για αυτό θα είναι εκείνο το οποίο στην συνέχεια θα κάνουμε train και evaluate.\n",
    "Μάλιστα πειραματηστήκαμε με τα activation functions των νευρώνων, δοκιμάζοντας sigmoid,relu,tanh ακόμα και συνδυασμούς αυτών (όσον αφορά το 2ο μοντέλο), και παρατηρήσαμε ότι η tanh έδινε καλύτερα αποτελέσματα (και η relu αρκετά κοντινά)."
   ]
  },
  {
   "cell_type": "code",
   "execution_count": 36,
   "metadata": {},
   "outputs": [],
   "source": [
    "import torch.nn as nn\n",
    "import torch.nn.functional as F\n",
    "\n",
    "class MyNet_TwoLayers(nn.Module):\n",
    "    \n",
    "    def __init__(self, input_size, hidden1_size, hidden2_size, num_classes):\n",
    "        \n",
    "        super(MyNet_TwoLayers, self).__init__()\n",
    "        self.fc1 = nn.Linear(input_size, hidden1_size)\n",
    "        self.relu1 = nn.Tanh()\n",
    "        self.fc2 = nn.Linear(hidden1_size, hidden2_size)\n",
    "        self.relu2 = nn.Tanh()\n",
    "        self.fc3 = nn.Linear(hidden2_size, num_classes)  \n",
    "    \n",
    "    def forward(self, x):\n",
    "        out = self.fc1(x)\n",
    "        out = self.relu1(out)\n",
    "        out = self.fc2(out)\n",
    "        out = self.relu2(out)\n",
    "        out = self.fc3(out)\n",
    "        return out\n",
    "    \n",
    "class MyNet_OneLayer(nn.Module):\n",
    "    \n",
    "    def __init__(self, input_size, hidden1_size, num_classes):\n",
    "        \n",
    "        super(MyNet_OneLayer, self).__init__()\n",
    "        self.fc1 = nn.Linear(input_size, hidden1_size)\n",
    "        self.relu1 = nn.ReLU()\n",
    "        self.fc2 = nn.Linear(hidden1_size, num_classes)\n",
    "   \n",
    "    \n",
    "    def forward(self, x):\n",
    "        out = self.fc1(x)\n",
    "        out = self.relu1(out)\n",
    "        out = self.fc2(out)\n",
    "        return out"
   ]
  },
  {
   "cell_type": "markdown",
   "metadata": {},
   "source": [
    "Στο επόμενο βήμα χωρίζουμε τα sets σε batches. Παρατηρήσαμε ότι όσο μεγαλύτερο είναι το size τους τόσο πιο γρήγορα γίνεται train το νευρωνικό, δίνοντας όμως χαμηλότερα στατιστικά αποτελέσματα.\n",
    "Τελικά επιλέγαμε batch size 16."
   ]
  },
  {
   "cell_type": "code",
   "execution_count": 37,
   "metadata": {},
   "outputs": [],
   "source": [
    "# Transform to batches...\n",
    "#For this purpose we will use the DataLoader class of Pytorch\n",
    "from torch.utils.data import DataLoader\n",
    "\n",
    "BATCH_SZ=16\n",
    "\n",
    "train_batches = DataLoader(train,batch_size=BATCH_SZ,shuffle=True,num_workers=4)\n",
    "val_batches = DataLoader(val,batch_size=BATCH_SZ,shuffle=True,num_workers=4)\n",
    "test_batches = DataLoader(digits_test,batch_size=BATCH_SZ,shuffle=True,num_workers=4)\n"
   ]
  },
  {
   "cell_type": "markdown",
   "metadata": {},
   "source": [
    "Τέλος κάνουμε train το νευρωνικό μας και evaluate στα validation και test sets."
   ]
  },
  {
   "cell_type": "code",
   "execution_count": 38,
   "metadata": {},
   "outputs": [
    {
     "name": "stdout",
     "output_type": "stream",
     "text": [
      "Epoch: 0 \t Batch: 0 \t Loss 2.359849452972412\n",
      "Epoch: 0 \t Batch: 100 \t Loss 2.078776415031735\n",
      "Epoch: 0 \t Batch: 200 \t Loss 1.825636318667018\n",
      "Epoch: 0 \t Batch: 300 \t Loss 1.6217594275442866\n",
      "Epoch: 1 \t Batch: 0 \t Loss 0.7815943956375122\n",
      "Epoch: 1 \t Batch: 100 \t Loss 0.786403612040057\n",
      "Epoch: 1 \t Batch: 200 \t Loss 0.7135401973083838\n",
      "Epoch: 1 \t Batch: 300 \t Loss 0.6585578425382063\n",
      "Epoch: 2 \t Batch: 0 \t Loss 0.37058183550834656\n",
      "Epoch: 2 \t Batch: 100 \t Loss 0.4214757260414633\n",
      "Epoch: 2 \t Batch: 200 \t Loss 0.4084954968287577\n",
      "Epoch: 2 \t Batch: 300 \t Loss 0.39093858558078143\n",
      "Epoch: 3 \t Batch: 0 \t Loss 1.1194454431533813\n",
      "Epoch: 3 \t Batch: 100 \t Loss 0.3246549888707624\n",
      "Epoch: 3 \t Batch: 200 \t Loss 0.30443854882052884\n",
      "Epoch: 3 \t Batch: 300 \t Loss 0.289246151168085\n",
      "Epoch: 4 \t Batch: 0 \t Loss 0.3991020917892456\n",
      "Epoch: 4 \t Batch: 100 \t Loss 0.2594121398016958\n",
      "Epoch: 4 \t Batch: 200 \t Loss 0.25247357518815283\n",
      "Epoch: 4 \t Batch: 300 \t Loss 0.24459037085704233\n",
      "Epoch: 5 \t Batch: 0 \t Loss 0.40573081374168396\n",
      "Epoch: 5 \t Batch: 100 \t Loss 0.21961226056117822\n",
      "Epoch: 5 \t Batch: 200 \t Loss 0.21433593273459384\n",
      "Epoch: 5 \t Batch: 300 \t Loss 0.22158399214380206\n",
      "Epoch: 6 \t Batch: 0 \t Loss 0.12986750900745392\n",
      "Epoch: 6 \t Batch: 100 \t Loss 0.20863912379977725\n",
      "Epoch: 6 \t Batch: 200 \t Loss 0.19758861871501107\n",
      "Epoch: 6 \t Batch: 300 \t Loss 0.1916973219064383\n",
      "Epoch: 7 \t Batch: 0 \t Loss 0.71527099609375\n",
      "Epoch: 7 \t Batch: 100 \t Loss 0.18013134598731995\n",
      "Epoch: 7 \t Batch: 200 \t Loss 0.18385322095446327\n",
      "Epoch: 7 \t Batch: 300 \t Loss 0.1836631694109337\n",
      "Epoch: 8 \t Batch: 0 \t Loss 0.10338741540908813\n",
      "Epoch: 8 \t Batch: 100 \t Loss 0.19372574719462063\n",
      "Epoch: 8 \t Batch: 200 \t Loss 0.17990773760560733\n",
      "Epoch: 8 \t Batch: 300 \t Loss 0.17091159339362996\n",
      "Epoch: 9 \t Batch: 0 \t Loss 0.1080048680305481\n",
      "Epoch: 9 \t Batch: 100 \t Loss 0.15250281974820806\n",
      "Epoch: 9 \t Batch: 200 \t Loss 0.15936432586083957\n",
      "Epoch: 9 \t Batch: 300 \t Loss 0.1641812304721718\n",
      "Epoch: 10 \t Batch: 0 \t Loss 0.08711959421634674\n",
      "Epoch: 10 \t Batch: 100 \t Loss 0.1545784060317691\n",
      "Epoch: 10 \t Batch: 200 \t Loss 0.1506396175468739\n",
      "Epoch: 10 \t Batch: 300 \t Loss 0.15280393835318049\n",
      "Epoch: 11 \t Batch: 0 \t Loss 0.2563759684562683\n",
      "Epoch: 11 \t Batch: 100 \t Loss 0.1428194947466992\n",
      "Epoch: 11 \t Batch: 200 \t Loss 0.13572588244184333\n",
      "Epoch: 11 \t Batch: 300 \t Loss 0.14408217692295974\n",
      "Epoch: 12 \t Batch: 0 \t Loss 0.598616361618042\n",
      "Epoch: 12 \t Batch: 100 \t Loss 0.1454086460099362\n",
      "Epoch: 12 \t Batch: 200 \t Loss 0.13677164096737382\n",
      "Epoch: 12 \t Batch: 300 \t Loss 0.13366864220644548\n",
      "Epoch: 13 \t Batch: 0 \t Loss 0.08056607842445374\n",
      "Epoch: 13 \t Batch: 100 \t Loss 0.13280142386360924\n",
      "Epoch: 13 \t Batch: 200 \t Loss 0.1373617621648371\n",
      "Epoch: 13 \t Batch: 300 \t Loss 0.12885456703033954\n",
      "Epoch: 14 \t Batch: 0 \t Loss 0.021874606609344482\n",
      "Epoch: 14 \t Batch: 100 \t Loss 0.12884404193056692\n",
      "Epoch: 14 \t Batch: 200 \t Loss 0.12206614150929807\n",
      "Epoch: 14 \t Batch: 300 \t Loss 0.11951175772668515\n",
      "Epoch: 15 \t Batch: 0 \t Loss 0.20624950528144836\n",
      "Epoch: 15 \t Batch: 100 \t Loss 0.10583380292547812\n",
      "Epoch: 15 \t Batch: 200 \t Loss 0.11448723982222637\n",
      "Epoch: 15 \t Batch: 300 \t Loss 0.1183344901499162\n",
      "Epoch: 16 \t Batch: 0 \t Loss 0.023311614990234375\n",
      "Epoch: 16 \t Batch: 100 \t Loss 0.10903427270379397\n",
      "Epoch: 16 \t Batch: 200 \t Loss 0.11123217397661352\n",
      "Epoch: 16 \t Batch: 300 \t Loss 0.11570011807042499\n",
      "Epoch: 17 \t Batch: 0 \t Loss 0.16642658412456512\n",
      "Epoch: 17 \t Batch: 100 \t Loss 0.11394825976083775\n",
      "Epoch: 17 \t Batch: 200 \t Loss 0.1091673128788744\n",
      "Epoch: 17 \t Batch: 300 \t Loss 0.10550810104588734\n",
      "Epoch: 18 \t Batch: 0 \t Loss 0.0357096791267395\n",
      "Epoch: 18 \t Batch: 100 \t Loss 0.09321091656047518\n",
      "Epoch: 18 \t Batch: 200 \t Loss 0.10023179027571608\n",
      "Epoch: 18 \t Batch: 300 \t Loss 0.10129537866559139\n",
      "Epoch: 19 \t Batch: 0 \t Loss 0.07102160155773163\n",
      "Epoch: 19 \t Batch: 100 \t Loss 0.0918496543228036\n",
      "Epoch: 19 \t Batch: 200 \t Loss 0.09379245392718719\n",
      "Epoch: 19 \t Batch: 300 \t Loss 0.10039354306320812\n",
      "Epoch: 20 \t Batch: 0 \t Loss 0.02707555890083313\n",
      "Epoch: 20 \t Batch: 100 \t Loss 0.1003640108179338\n",
      "Epoch: 20 \t Batch: 200 \t Loss 0.0954205443461736\n",
      "Epoch: 20 \t Batch: 300 \t Loss 0.09643833146142801\n",
      "Epoch: 21 \t Batch: 0 \t Loss 0.028337866067886353\n",
      "Epoch: 21 \t Batch: 100 \t Loss 0.08611883473868417\n",
      "Epoch: 21 \t Batch: 200 \t Loss 0.08607399448826539\n",
      "Epoch: 21 \t Batch: 300 \t Loss 0.08311421476131262\n",
      "Epoch: 22 \t Batch: 0 \t Loss 0.09078863263130188\n",
      "Epoch: 22 \t Batch: 100 \t Loss 0.08915037256066162\n",
      "Epoch: 22 \t Batch: 200 \t Loss 0.08954210846281763\n",
      "Epoch: 22 \t Batch: 300 \t Loss 0.08578500037771523\n",
      "Epoch: 23 \t Batch: 0 \t Loss 0.015818148851394653\n",
      "Epoch: 23 \t Batch: 100 \t Loss 0.08260828817244803\n",
      "Epoch: 23 \t Batch: 200 \t Loss 0.08116820810446099\n",
      "Epoch: 23 \t Batch: 300 \t Loss 0.08324791481130543\n",
      "Epoch: 24 \t Batch: 0 \t Loss 0.005019277334213257\n",
      "Epoch: 24 \t Batch: 100 \t Loss 0.08454024319601532\n",
      "Epoch: 24 \t Batch: 200 \t Loss 0.07833467134788855\n",
      "Epoch: 24 \t Batch: 300 \t Loss 0.07977261391787038\n",
      "Epoch: 25 \t Batch: 0 \t Loss 0.11729353666305542\n",
      "Epoch: 25 \t Batch: 100 \t Loss 0.0826205205504257\n",
      "Epoch: 25 \t Batch: 200 \t Loss 0.08019372383456919\n",
      "Epoch: 25 \t Batch: 300 \t Loss 0.07901520027076683\n",
      "Epoch: 26 \t Batch: 0 \t Loss 0.04460182785987854\n",
      "Epoch: 26 \t Batch: 100 \t Loss 0.08107595573557486\n",
      "Epoch: 26 \t Batch: 200 \t Loss 0.07075605671204145\n",
      "Epoch: 26 \t Batch: 300 \t Loss 0.06934806773828905\n",
      "Epoch: 27 \t Batch: 0 \t Loss 0.013110637664794922\n",
      "Epoch: 27 \t Batch: 100 \t Loss 0.07008685968299903\n",
      "Epoch: 27 \t Batch: 200 \t Loss 0.06944342261523156\n",
      "Epoch: 27 \t Batch: 300 \t Loss 0.07151793344472333\n",
      "Epoch: 28 \t Batch: 0 \t Loss 0.09115490317344666\n",
      "Epoch: 28 \t Batch: 100 \t Loss 0.0696865324631776\n",
      "Epoch: 28 \t Batch: 200 \t Loss 0.0679309571263802\n",
      "Epoch: 28 \t Batch: 300 \t Loss 0.06837701025199257\n",
      "Epoch: 29 \t Batch: 0 \t Loss 0.020707041025161743\n",
      "Epoch: 29 \t Batch: 100 \t Loss 0.06306320753428016\n",
      "Epoch: 29 \t Batch: 200 \t Loss 0.06718070145270125\n",
      "Epoch: 29 \t Batch: 300 \t Loss 0.06463485159153162\n"
     ]
    }
   ],
   "source": [
    "EPOCHS = 30\n",
    "\n",
    "# model\n",
    "mynet = MyNet_TwoLayers(features_number,100,100, labels_number)\n",
    "\n",
    "# loss function\n",
    "criterion = nn.CrossEntropyLoss()\n",
    "\n",
    "# optimizer\n",
    "learning_rate = 0.001\n",
    "optimizer = torch.optim.SGD(mynet.parameters(), lr=learning_rate, nesterov=True, momentum=0.9, dampening=0)\n",
    "\n",
    "mynet.train()\n",
    "\n",
    "for epoch in range(EPOCHS):\n",
    "    running_average_loss = 0\n",
    "    \n",
    "    for i, batch in enumerate(train_batches):\n",
    "        X_batch, y_batch = batch\n",
    "        #optimizer.zero_grad()\n",
    "        out = mynet(X_batch)\n",
    "        loss = criterion(out, y_batch)\n",
    "        optimizer.zero_grad()\n",
    "        loss.backward()\n",
    "        optimizer.step()\n",
    "        \n",
    "        running_average_loss += loss.detach().item()\n",
    "        if i % 100 == 0:\n",
    "            print(\"Epoch: {} \\t Batch: {} \\t Loss {}\".format(epoch, i, float(running_average_loss) / (i + 1)))"
   ]
  },
  {
   "cell_type": "markdown",
   "metadata": {},
   "source": [
    "Παρατηρούμε ότι το loss πέφτει αρκετά γρήγορα λόγω του σχετικά υψηλού learning rate... Ωστόσο μετά από ένα σημείο δεν δείχνει να ελλατώνεται. Θα μπορούσαμε σιγά σιγά να ρίχναμε το μέγεθος του ώστε και στα επόμενα βήματα το loss να μειώνονταν περισσότερο."
   ]
  },
  {
   "cell_type": "markdown",
   "metadata": {},
   "source": [
    "Στην συνέχεια κάνουμε evaluate το validation set και το test set."
   ]
  },
  {
   "cell_type": "code",
   "execution_count": 39,
   "metadata": {},
   "outputs": [
    {
     "name": "stdout",
     "output_type": "stream",
     "text": [
      "Score for validation set:  0.9558423913043478\n"
     ]
    }
   ],
   "source": [
    "mynet.eval()\n",
    "acc = 0\n",
    "n_samples = 0\n",
    "with torch.no_grad():\n",
    "    for i, data in enumerate(val_batches):\n",
    "        X_batch, y_batch = data\n",
    "        out = mynet(X_batch)\n",
    "        val, y_pred = out.max(1)\n",
    "        acc += (y_batch == y_pred).sum().detach().item()\n",
    "        n_samples += 16\n",
    "\n",
    "print(\"Score for validation set: \" ,acc / n_samples)"
   ]
  },
  {
   "cell_type": "code",
   "execution_count": 40,
   "metadata": {},
   "outputs": [
    {
     "name": "stdout",
     "output_type": "stream",
     "text": [
      "Score for test set:  0.9196428571428571\n"
     ]
    }
   ],
   "source": [
    "mynet.eval()\n",
    "acc = 0\n",
    "n_samples = 0\n",
    "with torch.no_grad():\n",
    "    for i, data in enumerate(test_batches):\n",
    "        X_batch, y_batch = data\n",
    "        out = mynet(X_batch)\n",
    "        val, y_pred = out.max(1)\n",
    "        acc += (y_batch == y_pred).sum().detach().item()\n",
    "        n_samples += 16\n",
    "\n",
    "print(\"Score for test set: \" ,acc / n_samples)"
   ]
  },
  {
   "cell_type": "markdown",
   "metadata": {},
   "source": [
    "Παρατηρούμε ότι το score του validation set είναι μεγαλύτερο από εκείνο του test set. Κάτι τέτοιο είναι απολύτως λογικό αφού είναι μέρος του training και πολύ πιθανόν να περιέχει κοινά (κοντινά) samples με το train set. Ωστόσο το test μπορώ να περιέχει 'unseen samples', στα οποία το μοντέλο δεν έχει εκπαιδευτεί. Άλλωστε πολλές φορές τα πραγματικά δεδομένα (αντίστοιχα του test) μπορεί να διαφέρουν αρκετά από εκείνα στα οποία το μοντέλο μας προπονήθηκε,οπότε δεν χρειάζεται να ανησυχήσουμε :)"
   ]
  },
  {
   "cell_type": "code",
   "execution_count": null,
   "metadata": {},
   "outputs": [],
   "source": []
  }
 ],
 "metadata": {
  "kernelspec": {
   "display_name": "Python 3",
   "language": "python",
   "name": "python3"
  },
  "language_info": {
   "codemirror_mode": {
    "name": "ipython",
    "version": 3
   },
   "file_extension": ".py",
   "mimetype": "text/x-python",
   "name": "python",
   "nbconvert_exporter": "python",
   "pygments_lexer": "ipython3",
   "version": "3.7.3"
  }
 },
 "nbformat": 4,
 "nbformat_minor": 2
}
